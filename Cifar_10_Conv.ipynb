{
  "nbformat": 4,
  "nbformat_minor": 0,
  "metadata": {
    "colab": {
      "name": "Cifar-10-Conv.ipynb",
      "provenance": []
    },
    "kernelspec": {
      "name": "python3",
      "display_name": "Python 3"
    },
    "language_info": {
      "name": "python"
    },
    "accelerator": "GPU"
  },
  "cells": [
    {
      "cell_type": "code",
      "execution_count": null,
      "metadata": {
        "colab": {
          "base_uri": "https://localhost:8080/"
        },
        "id": "vBGz8ppihdDZ",
        "outputId": "ca6913fc-1532-47cf-8aa5-747ad3a821bb"
      },
      "outputs": [
        {
          "output_type": "stream",
          "name": "stdout",
          "text": [
            "2.8.0\n"
          ]
        }
      ],
      "source": [
        "import tensorflow as tf\n",
        "\n",
        "print(tf.__version__)"
      ]
    },
    {
      "cell_type": "code",
      "source": [
        "import numpy as np\n",
        "import matplotlib.pyplot as plt\n",
        "from tensorflow.keras.layers import Input, Conv2D, Dense, Flatten, Dropout, GlobalMaxPooling2D, MaxPooling2D, BatchNormalization\n",
        "from tensorflow.keras.models import Model"
      ],
      "metadata": {
        "id": "9xSTpJf7hoe-"
      },
      "execution_count": null,
      "outputs": []
    },
    {
      "cell_type": "code",
      "source": [
        "(X_train, y_train), (X_test, y_test) =  tf.keras.datasets.cifar10.load_data()\n",
        "\n",
        "X_train = X_train / 255.0\n",
        "X_test = X_test / 255.0\n",
        "\n",
        "y_train = y_train.flatten()\n",
        "y_test = y_test.flatten()\n",
        "\n",
        "X_train.shape, X_test.shape, y_train.shape, y_test.shape"
      ],
      "metadata": {
        "colab": {
          "base_uri": "https://localhost:8080/"
        },
        "id": "wyqFLB1ghqrm",
        "outputId": "3c8a8b38-ba0f-417f-aaaa-593e765b5467"
      },
      "execution_count": null,
      "outputs": [
        {
          "output_type": "stream",
          "name": "stdout",
          "text": [
            "Downloading data from https://www.cs.toronto.edu/~kriz/cifar-10-python.tar.gz\n",
            "170500096/170498071 [==============================] - 2s 0us/step\n",
            "170508288/170498071 [==============================] - 2s 0us/step\n"
          ]
        },
        {
          "output_type": "execute_result",
          "data": {
            "text/plain": [
              "((50000, 32, 32, 3), (10000, 32, 32, 3), (50000,), (10000,))"
            ]
          },
          "metadata": {},
          "execution_count": 3
        }
      ]
    },
    {
      "cell_type": "code",
      "source": [
        "K = len(set(y_train))\n",
        "\n",
        "print('Número de classes:', K)"
      ],
      "metadata": {
        "colab": {
          "base_uri": "https://localhost:8080/"
        },
        "id": "CX4a1u8eiK1G",
        "outputId": "3e1421c7-be4f-4967-bc16-5de3119d8458"
      },
      "execution_count": null,
      "outputs": [
        {
          "output_type": "stream",
          "name": "stdout",
          "text": [
            "Número de classes: 10\n"
          ]
        }
      ]
    },
    {
      "cell_type": "code",
      "source": [
        "i = Input(shape=(32,32,3))\n",
        "\n",
        "x = Conv2D(32, (3,3), activation='relu', padding='same')(i)\n",
        "x = BatchNormalization()(x)\n",
        "x = Conv2D(32, (3,3), activation='relu', padding='same')(x)\n",
        "x = BatchNormalization()(x)\n",
        "x = MaxPooling2D((2,2))(x)\n",
        "\n",
        "x = Conv2D(64, (3,3), activation='relu', padding='same')(x)\n",
        "x = BatchNormalization()(x)\n",
        "x = Conv2D(64, (3,3), activation='relu', padding='same')(x)\n",
        "x = BatchNormalization()(x)\n",
        "x = MaxPooling2D((2,2))(x)\n",
        "\n",
        "x = Conv2D(128, (3,3), activation='relu', padding='same')(x)\n",
        "x = BatchNormalization()(x)\n",
        "x = Conv2D(128, (3,3), activation='relu', padding='same')(x)\n",
        "x = BatchNormalization()(x)\n",
        "x = MaxPooling2D((2,2))(x)\n",
        "\n",
        "x = Flatten()(x)\n",
        "x = Dropout(0.2)(x)\n",
        "x = Dense(1024)(x)\n",
        "x = Dropout(0.2)(x)\n",
        "x = Dense(K, activation='softmax')(x)\n",
        "\n",
        "model = Model(i, x)"
      ],
      "metadata": {
        "id": "DBu2y5e7iS6X"
      },
      "execution_count": null,
      "outputs": []
    },
    {
      "cell_type": "code",
      "source": [
        "model.compile(optimizer='adam',\n",
        "              loss='sparse_categorical_crossentropy',\n",
        "              metrics=['accuracy'])\n",
        "\n",
        "h = model.fit(X_train, \n",
        "              y_train,\n",
        "              epochs=20,\n",
        "              validation_data=(X_test, y_test))"
      ],
      "metadata": {
        "colab": {
          "base_uri": "https://localhost:8080/"
        },
        "id": "83_HmhMHkArQ",
        "outputId": "010c73e8-9afd-442e-c271-a83488c08ff8"
      },
      "execution_count": null,
      "outputs": [
        {
          "output_type": "stream",
          "name": "stdout",
          "text": [
            "Epoch 1/20\n",
            "1563/1563 [==============================] - 32s 20ms/step - loss: 2.4849 - accuracy: 0.4436 - val_loss: 1.3751 - val_accuracy: 0.5393\n",
            "Epoch 2/20\n",
            "1563/1563 [==============================] - 30s 19ms/step - loss: 1.0610 - accuracy: 0.6345 - val_loss: 1.1823 - val_accuracy: 0.6144\n",
            "Epoch 3/20\n",
            "1563/1563 [==============================] - 29s 19ms/step - loss: 0.8517 - accuracy: 0.7112 - val_loss: 0.8422 - val_accuracy: 0.7131\n",
            "Epoch 4/20\n",
            "1563/1563 [==============================] - 29s 19ms/step - loss: 0.6995 - accuracy: 0.7614 - val_loss: 0.8176 - val_accuracy: 0.7282\n",
            "Epoch 5/20\n",
            "1563/1563 [==============================] - 30s 19ms/step - loss: 0.5939 - accuracy: 0.7937 - val_loss: 0.7074 - val_accuracy: 0.7598\n",
            "Epoch 6/20\n",
            "1563/1563 [==============================] - 32s 20ms/step - loss: 0.5036 - accuracy: 0.8253 - val_loss: 0.7222 - val_accuracy: 0.7602\n",
            "Epoch 7/20\n",
            "1563/1563 [==============================] - 31s 20ms/step - loss: 0.4389 - accuracy: 0.8470 - val_loss: 0.7267 - val_accuracy: 0.7733\n",
            "Epoch 8/20\n",
            "1563/1563 [==============================] - 31s 20ms/step - loss: 0.3818 - accuracy: 0.8680 - val_loss: 0.6237 - val_accuracy: 0.7975\n",
            "Epoch 9/20\n",
            "1563/1563 [==============================] - 30s 19ms/step - loss: 0.3290 - accuracy: 0.8847 - val_loss: 0.6352 - val_accuracy: 0.8047\n",
            "Epoch 10/20\n",
            "1563/1563 [==============================] - 29s 19ms/step - loss: 0.2883 - accuracy: 0.8987 - val_loss: 0.6795 - val_accuracy: 0.7986\n",
            "Epoch 11/20\n",
            "1563/1563 [==============================] - 30s 19ms/step - loss: 0.2528 - accuracy: 0.9110 - val_loss: 0.6435 - val_accuracy: 0.8111\n",
            "Epoch 12/20\n",
            "1563/1563 [==============================] - 30s 19ms/step - loss: 0.2318 - accuracy: 0.9168 - val_loss: 0.6932 - val_accuracy: 0.8160\n",
            "Epoch 13/20\n",
            "1563/1563 [==============================] - 29s 19ms/step - loss: 0.2061 - accuracy: 0.9273 - val_loss: 0.6723 - val_accuracy: 0.8158\n",
            "Epoch 14/20\n",
            "1563/1563 [==============================] - 29s 19ms/step - loss: 0.1878 - accuracy: 0.9332 - val_loss: 0.7450 - val_accuracy: 0.8082\n",
            "Epoch 15/20\n",
            "1563/1563 [==============================] - 30s 19ms/step - loss: 0.1728 - accuracy: 0.9390 - val_loss: 0.6724 - val_accuracy: 0.8238\n",
            "Epoch 16/20\n",
            "1563/1563 [==============================] - 30s 19ms/step - loss: 0.1658 - accuracy: 0.9420 - val_loss: 0.7425 - val_accuracy: 0.8113\n",
            "Epoch 17/20\n",
            "1563/1563 [==============================] - 29s 19ms/step - loss: 0.1553 - accuracy: 0.9463 - val_loss: 0.7898 - val_accuracy: 0.8125\n",
            "Epoch 18/20\n",
            "1563/1563 [==============================] - 30s 19ms/step - loss: 0.1461 - accuracy: 0.9493 - val_loss: 0.8627 - val_accuracy: 0.8117\n",
            "Epoch 19/20\n",
            "1563/1563 [==============================] - 30s 19ms/step - loss: 0.1460 - accuracy: 0.9499 - val_loss: 0.8486 - val_accuracy: 0.8014\n",
            "Epoch 20/20\n",
            "1563/1563 [==============================] - 29s 19ms/step - loss: 0.1335 - accuracy: 0.9546 - val_loss: 0.8138 - val_accuracy: 0.8189\n"
          ]
        }
      ]
    },
    {
      "cell_type": "code",
      "source": [
        "batch_size = 32\n",
        "\n",
        "data_generator = tf.keras.preprocessing.image.ImageDataGenerator(width_shift_range=0.1, height_shift_range=0.1, horizontal_flip=True)\n",
        "train_generator = data_generator.flow(X_train, y_train, batch_size)\n",
        "steps_per_epoch = X_train.shape[0] // batch_size\n",
        "\n",
        "h = model.fit(train_generator, validation_data=(X_test, y_test), epochs=50, steps_per_epoch=steps_per_epoch, initial_epoch=20)"
      ],
      "metadata": {
        "colab": {
          "base_uri": "https://localhost:8080/"
        },
        "id": "85HM0dc0k9Aw",
        "outputId": "df0bb472-13b9-4568-fd44-011de9c7f21f"
      },
      "execution_count": null,
      "outputs": [
        {
          "output_type": "stream",
          "name": "stdout",
          "text": [
            "Epoch 21/50\n",
            "1562/1562 [==============================] - 53s 34ms/step - loss: 0.3043 - accuracy: 0.8956 - val_loss: 0.4819 - val_accuracy: 0.8588\n",
            "Epoch 22/50\n",
            "1562/1562 [==============================] - 52s 34ms/step - loss: 0.3023 - accuracy: 0.8958 - val_loss: 0.4789 - val_accuracy: 0.8542\n",
            "Epoch 23/50\n",
            "1562/1562 [==============================] - 52s 33ms/step - loss: 0.3008 - accuracy: 0.8958 - val_loss: 0.4775 - val_accuracy: 0.8525\n",
            "Epoch 24/50\n",
            "1562/1562 [==============================] - 52s 34ms/step - loss: 0.2958 - accuracy: 0.8989 - val_loss: 0.4382 - val_accuracy: 0.8663\n",
            "Epoch 25/50\n",
            "1562/1562 [==============================] - 53s 34ms/step - loss: 0.2980 - accuracy: 0.8972 - val_loss: 0.4380 - val_accuracy: 0.8662\n",
            "Epoch 26/50\n",
            "1562/1562 [==============================] - 53s 34ms/step - loss: 0.2879 - accuracy: 0.9001 - val_loss: 0.4513 - val_accuracy: 0.8637\n",
            "Epoch 27/50\n",
            "1562/1562 [==============================] - 53s 34ms/step - loss: 0.2829 - accuracy: 0.9027 - val_loss: 0.4877 - val_accuracy: 0.8496\n",
            "Epoch 28/50\n",
            "1562/1562 [==============================] - 53s 34ms/step - loss: 0.2817 - accuracy: 0.9031 - val_loss: 0.4273 - val_accuracy: 0.8723\n",
            "Epoch 29/50\n",
            "1562/1562 [==============================] - 53s 34ms/step - loss: 0.2866 - accuracy: 0.9011 - val_loss: 0.4770 - val_accuracy: 0.8586\n",
            "Epoch 30/50\n",
            "1562/1562 [==============================] - 53s 34ms/step - loss: 0.2814 - accuracy: 0.9024 - val_loss: 0.4629 - val_accuracy: 0.8620\n",
            "Epoch 31/50\n",
            "1562/1562 [==============================] - 53s 34ms/step - loss: 0.2826 - accuracy: 0.9015 - val_loss: 0.4496 - val_accuracy: 0.8692\n",
            "Epoch 32/50\n",
            "1562/1562 [==============================] - 52s 34ms/step - loss: 0.2757 - accuracy: 0.9056 - val_loss: 0.4645 - val_accuracy: 0.8686\n",
            "Epoch 33/50\n",
            "1562/1562 [==============================] - 52s 33ms/step - loss: 0.2762 - accuracy: 0.9049 - val_loss: 0.4585 - val_accuracy: 0.8633\n",
            "Epoch 34/50\n",
            "1562/1562 [==============================] - 53s 34ms/step - loss: 0.2748 - accuracy: 0.9063 - val_loss: 0.4605 - val_accuracy: 0.8655\n",
            "Epoch 35/50\n",
            "1562/1562 [==============================] - 53s 34ms/step - loss: 0.2723 - accuracy: 0.9063 - val_loss: 0.4185 - val_accuracy: 0.8755\n",
            "Epoch 36/50\n",
            "1562/1562 [==============================] - 52s 33ms/step - loss: 0.2649 - accuracy: 0.9079 - val_loss: 0.4592 - val_accuracy: 0.8702\n",
            "Epoch 37/50\n",
            "1562/1562 [==============================] - 53s 34ms/step - loss: 0.2653 - accuracy: 0.9079 - val_loss: 0.4436 - val_accuracy: 0.8686\n",
            "Epoch 38/50\n",
            "1562/1562 [==============================] - 53s 34ms/step - loss: 0.2601 - accuracy: 0.9114 - val_loss: 0.4742 - val_accuracy: 0.8666\n",
            "Epoch 39/50\n",
            "1562/1562 [==============================] - 53s 34ms/step - loss: 0.2650 - accuracy: 0.9081 - val_loss: 0.4711 - val_accuracy: 0.8644\n",
            "Epoch 40/50\n",
            "1562/1562 [==============================] - 53s 34ms/step - loss: 0.2629 - accuracy: 0.9102 - val_loss: 0.4525 - val_accuracy: 0.8707\n",
            "Epoch 41/50\n",
            "1562/1562 [==============================] - 53s 34ms/step - loss: 0.2565 - accuracy: 0.9112 - val_loss: 0.4544 - val_accuracy: 0.8719\n",
            "Epoch 42/50\n",
            "1562/1562 [==============================] - 53s 34ms/step - loss: 0.2568 - accuracy: 0.9118 - val_loss: 0.4523 - val_accuracy: 0.8685\n",
            "Epoch 43/50\n",
            "1562/1562 [==============================] - 53s 34ms/step - loss: 0.2584 - accuracy: 0.9123 - val_loss: 0.4416 - val_accuracy: 0.8677\n",
            "Epoch 44/50\n",
            "1562/1562 [==============================] - 53s 34ms/step - loss: 0.2510 - accuracy: 0.9128 - val_loss: 0.4770 - val_accuracy: 0.8670\n",
            "Epoch 45/50\n",
            "1562/1562 [==============================] - 53s 34ms/step - loss: 0.2489 - accuracy: 0.9136 - val_loss: 0.4701 - val_accuracy: 0.8606\n",
            "Epoch 46/50\n",
            "1562/1562 [==============================] - 53s 34ms/step - loss: 0.2460 - accuracy: 0.9145 - val_loss: 0.4537 - val_accuracy: 0.8679\n",
            "Epoch 47/50\n",
            "1562/1562 [==============================] - 53s 34ms/step - loss: 0.2463 - accuracy: 0.9150 - val_loss: 0.4545 - val_accuracy: 0.8708\n",
            "Epoch 48/50\n",
            "1562/1562 [==============================] - 53s 34ms/step - loss: 0.2456 - accuracy: 0.9162 - val_loss: 0.4508 - val_accuracy: 0.8738\n",
            "Epoch 49/50\n",
            "1562/1562 [==============================] - 53s 34ms/step - loss: 0.2451 - accuracy: 0.9183 - val_loss: 0.4381 - val_accuracy: 0.8765\n",
            "Epoch 50/50\n",
            "1562/1562 [==============================] - 53s 34ms/step - loss: 0.2446 - accuracy: 0.9156 - val_loss: 0.4550 - val_accuracy: 0.8686\n"
          ]
        }
      ]
    },
    {
      "cell_type": "code",
      "source": [
        "import matplotlib.pyplot as plt\n",
        "\n",
        "plt.plot(h.history['loss'], label='loss')\n",
        "plt.plot(h.history['val_loss'], label='val_loss')\n",
        "plt.legend()"
      ],
      "metadata": {
        "colab": {
          "base_uri": "https://localhost:8080/",
          "height": 282
        },
        "id": "gAfM_ddNmGKZ",
        "outputId": "7927ce2d-4892-4734-f4a1-744043567d69"
      },
      "execution_count": null,
      "outputs": [
        {
          "output_type": "execute_result",
          "data": {
            "text/plain": [
              "<matplotlib.legend.Legend at 0x7f2287a88790>"
            ]
          },
          "metadata": {},
          "execution_count": 22
        },
        {
          "output_type": "display_data",
          "data": {
            "text/plain": [
              "<Figure size 432x288 with 1 Axes>"
            ],
            "image/png": "[encoded data removed]"
          },
          "metadata": {
            "needs_background": "light"
          }
        }
      ]
    },
    {
      "cell_type": "code",
      "source": [
        "plt.plot(h.history['accuracy'], label='accuracy')\n",
        "plt.plot(h.history['val_accuracy'], label='val_accuracy')\n",
        "plt.legend()"
      ],
      "metadata": {
        "colab": {
          "base_uri": "https://localhost:8080/",
          "height": 282
        },
        "id": "higZvXCumXtA",
        "outputId": "453bc986-ebbc-4bac-9306-12fdc6779b38"
      },
      "execution_count": null,
      "outputs": [
        {
          "output_type": "execute_result",
          "data": {
            "text/plain": [
              "<matplotlib.legend.Legend at 0x7f228994b790>"
            ]
          },
          "metadata": {},
          "execution_count": 23
        },
        {
          "output_type": "display_data",
          "data": {
            "text/plain": [
              "<Figure size 432x288 with 1 Axes>"
            ],
            "image/png": "[encoded data removed]"
          },
          "metadata": {
            "needs_background": "light"
          }
        }
      ]
    },
    {
      "cell_type": "code",
      "source": [
        "from sklearn.metrics import confusion_matrix\n",
        "\n",
        "preds_test = model.predict(X_test).argmax(axis=1)\n",
        "cm = confusion_matrix(preds_test, y_test)"
      ],
      "metadata": {
        "id": "SSzxXUiHnBMR"
      },
      "execution_count": null,
      "outputs": []
    },
    {
      "cell_type": "code",
      "source": [
        "labels = '''airplane\n",
        "automobile\n",
        "bird\n",
        "cat\n",
        "deer\n",
        "dog\n",
        "frog\n",
        "horse\n",
        "ship\n",
        "truck'''.split()"
      ],
      "metadata": {
        "id": "hBBPGSBqzREN"
      },
      "execution_count": null,
      "outputs": []
    },
    {
      "cell_type": "code",
      "source": [
        "missclassified_idx = np.where(preds_test != y_test)[0]\n",
        "i = np.random.choice(missclassified_idx)\n",
        "plt.imshow(X_test[i], cmap='gray')\n",
        "plt.title(f'Predict label: {labels[preds_test[i]]} True label: {labels[y_test[i]]}')"
      ],
      "metadata": {
        "colab": {
          "base_uri": "https://localhost:8080/",
          "height": 298
        },
        "id": "gDk_PxD-mtig",
        "outputId": "41b3d627-54dc-4740-e92e-c735ade004d1"
      },
      "execution_count": null,
      "outputs": [
        {
          "output_type": "execute_result",
          "data": {
            "text/plain": [
              "Text(0.5, 1.0, 'Predict label: horse True label: deer')"
            ]
          },
          "metadata": {},
          "execution_count": 30
        },
        {
          "output_type": "display_data",
          "data": {
            "text/plain": [
              "<Figure size 432x288 with 1 Axes>"
            ],
            "image/png": "[encoded data removed]"
          },
          "metadata": {
            "needs_background": "light"
          }
        }
      ]
    }
  ]
}